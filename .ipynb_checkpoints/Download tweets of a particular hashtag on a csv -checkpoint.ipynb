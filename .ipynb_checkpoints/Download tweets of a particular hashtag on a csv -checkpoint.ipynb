{
 "cells": [
  {
   "cell_type": "code",
   "execution_count": 10,
   "metadata": {},
   "outputs": [
    {
     "name": "stdout",
     "output_type": "stream",
     "text": [
      "Enter the number of tweets that you want to extract- 700\n",
      "Enter the hashtag you want to scrape- chavez\n",
      "downloaded700tweets\n"
     ]
    }
   ],
   "source": [
    "#!/usr/bin/python\n",
    "# -*- coding: utf-8 -*-\n",
    "\n",
    "import tweepy\n",
    "import csv\n",
    "import json\n",
    "\n",
    "# Twitter API credentials\n",
    "\n",
    "\n",
    "with open('Twitter_credentials.json') as cred_data:\n",
    "    info = json.load(cred_data)\n",
    "    consumer_key = info['CONSUMER_KEY']\n",
    "    consumer_secret = info['CONSUMER_SECRET']\n",
    "    access_key = info['ACCESS_TOKEN']\n",
    "    access_secret = info['ACCESS_TOKEN_SECRET']\n",
    "\n",
    "# Create the api endpoint\n",
    "\n",
    "auth = tweepy.OAuthHandler(consumer_key, consumer_secret)\n",
    "api = tweepy.API(auth)\n",
    "\n",
    "# Mention the maximum number of tweets that you want to be extracted.\n",
    "\n",
    "maximum_number_of_tweets_to_be_extracted = int(input('Enter the number of tweets that you want to extract- '))\n",
    "\n",
    "# Mention the hashtag that you want to look out for\n",
    "\n",
    "hashtag = input('Enter the hashtag you want to scrape- ')\n",
    "\n",
    "\n",
    "\n",
    "#we reate a list form of only id, date of creation, and text from the tweets that will be downloaded. \n",
    "#this is important because there are part of the tweets like the status, that cant be looped through. With this\n",
    "#we make sure that we loop through it. \n",
    "\n",
    "\n",
    "outtweets = [[tweet.id_str, tweet.created_at,\n",
    "                 tweet.text.encode('utf-8')] for tweet in tweepy.Cursor(api.search, q='#' + hashtag,\n",
    "                           rpp=100).items(maximum_number_of_tweets_to_be_extracted)]\n",
    "\n",
    "# we create the csv document we are going to place the tweets into. \n",
    "with open( hashtag + '_tweets.csv', 'w', encoding='utf8') as f:\n",
    "    writer = csv.writer(f)\n",
    "    writer.writerow(['id', 'created_at', 'text'])\n",
    "    writer.writerows(outtweets)\n",
    "\n",
    "print('downloaded' + str(maximum_number_of_tweets_to_be_extracted) + 'tweets')"
   ]
  },
  {
   "cell_type": "code",
   "execution_count": null,
   "metadata": {},
   "outputs": [],
   "source": []
  }
 ],
 "metadata": {
  "kernelspec": {
   "display_name": "Python 3",
   "language": "python",
   "name": "python3"
  },
  "language_info": {
   "codemirror_mode": {
    "name": "ipython",
    "version": 3
   },
   "file_extension": ".py",
   "mimetype": "text/x-python",
   "name": "python",
   "nbconvert_exporter": "python",
   "pygments_lexer": "ipython3",
   "version": "3.6.6"
  }
 },
 "nbformat": 4,
 "nbformat_minor": 2
}
